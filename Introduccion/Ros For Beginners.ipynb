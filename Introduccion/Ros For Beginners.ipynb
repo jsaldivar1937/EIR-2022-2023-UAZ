{
 "cells": [
  {
   "cell_type": "markdown",
   "id": "7da32a8b",
   "metadata": {},
   "source": [
    "# Creando nuestro espacio de trabajo en ROS\n",
    "\n",
    "\n",
    "\n",
    "En la creacion de nuestro espacio de trabajo crearemos una carpeta llamada catkin la cual contendra nuestros scripts para lo cual utilizaremos los siguentes comandos:"
   ]
  },
  {
   "cell_type": "code",
   "execution_count": null,
   "id": "a8d259ae",
   "metadata": {},
   "outputs": [],
   "source": [
    "$ mkdir -p ~/catkin_ws/src\n",
    "$ cd ~/catkin_ws/\n",
    "$ catkin_make"
   ]
  },
  {
   "cell_type": "markdown",
   "id": "4057aba9",
   "metadata": {},
   "source": [
    "Lo que acabamos de ver son los comandos para crear una carpeta llamada catkin_ws y una llamada src donde se guardaran los scripts, una vez dentro de la carpeta catkin se debe correr lo que es el catkin_make el que se encargara de hacer trabajar el espacio de trabajo."
   ]
  },
  {
   "cell_type": "markdown",
   "id": "0c419dc8",
   "metadata": {},
   "source": [
    "Ahora bien para estar accediendo a e espacio de trabajo es necesario correr el archivo bash que se encuentra en la carpeta de devel que se genera una vez complilado el espacio de trabajo. "
   ]
  },
  {
   "cell_type": "markdown",
   "id": "de2c7ffa",
   "metadata": {},
   "source": [
    "##### ¿Porque hacer esto?\n",
    "En Ros se puede tener multples espacios de trabajo los cuales no dependen de los demas."
   ]
  },
  {
   "cell_type": "code",
   "execution_count": null,
   "id": "522e4c9d",
   "metadata": {},
   "outputs": [],
   "source": [
    "$ source devel/setup.bash"
   ]
  },
  {
   "cell_type": "markdown",
   "id": "6da2cf2e",
   "metadata": {},
   "source": [
    "# Crear paquetes en ROS"
   ]
  },
  {
   "cell_type": "markdown",
   "id": "ed939a0a",
   "metadata": {},
   "source": [
    "Los paquetes ROS terminados contienen funciones y drivers definidos y son puestos a disposición de los usuarios a través de la comunidad. "
   ]
  },
  {
   "cell_type": "markdown",
   "id": "e7138c5f",
   "metadata": {},
   "source": [
    "## ¿Que constituye un paquete?"
   ]
  },
  {
   "cell_type": "markdown",
   "id": "e7243e36",
   "metadata": {},
   "source": [
    "Para que un paquete sea considerado un paquete de catkin debe cumplir con algunos requisitos:\n",
    " - El paquete debe contener un archivo package.xml compatible con el catkin\n",
    "   - Ese archivo package.xml proporciona metainformacion sobre el paquete.\n",
    " - El paquete debe contener un archivo CMakeLists.txt.\n",
    "   - Si es un metapaquete catkin, debe tener el archivo repetitivo CMakeList.txt relevante.\n",
    " - Cada paquete debe tener su propia carpeta.\n",
    "   - Esto significa que no hay paquetes anidados ni multiples paquetes compartiendo el mismo directorio.\n",
    " \n",
    " \n",
    " El paquete mas simple posible podria tener una estructura que se vea asi:"
   ]
  },
  {
   "cell_type": "raw",
   "id": "271afed4",
   "metadata": {},
   "source": [
    "My_package/\n",
    "    CMakeLists.txt\n",
    "    package.xml"
   ]
  },
  {
   "cell_type": "markdown",
   "id": "ad1543de",
   "metadata": {},
   "source": [
    "## Creacion de un paquete en Catkin"
   ]
  },
  {
   "cell_type": "markdown",
   "id": "48e5c9ec",
   "metadata": {},
   "source": [
    "Aqui veremos como usar el script de **catkin_create_pkg** para crear un nuevo paquete en catkin y que se puede hacer una vez que se haya creado."
   ]
  },
  {
   "cell_type": "markdown",
   "id": "ff514941",
   "metadata": {},
   "source": [
    "Primero debemos cambiar de directorio al espacio de catkin en el apartedo de src."
   ]
  },
  {
   "cell_type": "code",
   "execution_count": null,
   "id": "a53155ff",
   "metadata": {},
   "outputs": [],
   "source": [
    "# Debería haber creado esto en el Tutorial de creación de un espacio de trabajo\n",
    "$ cd ~/catkin_ws/src"
   ]
  },
  {
   "cell_type": "markdown",
   "id": "62186a7d",
   "metadata": {},
   "source": [
    "Ahora use el script **catkin_create_pkg** para crear un nuevo paquete llamado 'beginner_tutorials' que depende de std_msgs, roscpp y rospy:"
   ]
  },
  {
   "cell_type": "code",
   "execution_count": null,
   "id": "34037d8b",
   "metadata": {},
   "outputs": [],
   "source": [
    "$ catkin_create_package mi_primer_paquete std_msgs rospy roscpp"
   ]
  },
  {
   "cell_type": "markdown",
   "id": "c87c43eb",
   "metadata": {},
   "source": [
    "Esto creará una carpeta con nombre mi_primer_paquete que contiene un package.xml y un CMakeLists.txt, que se han completado parcialmente con informacion que proporciono a catkin_create_pkg."
   ]
  },
  {
   "cell_type": "markdown",
   "id": "54c9ea9b",
   "metadata": {},
   "source": [
    "*catkin_create_pkg* requiere que le des un *nombre* de paquete y, opcionalmente, una lista de dependencias de las que depende ese paquete:"
   ]
  },
  {
   "cell_type": "code",
   "execution_count": 2,
   "id": "e3c98f29",
   "metadata": {},
   "outputs": [],
   "source": [
    "# Este es un ejemplo, no intentes ejecutarlo\n",
    "# catkin_create_pkg <nombre_paquete> [depende1] [depende2] [depende3]"
   ]
  },
  {
   "cell_type": "markdown",
   "id": "17caf5f3",
   "metadata": {},
   "source": [
    "## Compilar el paquete ya creado"
   ]
  },
  {
   "cell_type": "markdown",
   "id": "056604bd",
   "metadata": {},
   "source": [
    "Ahora es necesario construir los paquetes en el espacio catkin:"
   ]
  },
  {
   "cell_type": "code",
   "execution_count": null,
   "id": "4d15d99f",
   "metadata": {},
   "outputs": [],
   "source": [
    "$ cd ~/catkin_ws\n",
    "$ catkin_make"
   ]
  },
  {
   "cell_type": "markdown",
   "id": "cd914fae",
   "metadata": {},
   "source": [
    "Una vez que se ha creado el espacio de trabajo, se ha creado una estructura similar en la subcarpeta de *desarrollo* que normalmente se encuentra en /opt/ros/$ROSDISTRO_NAME ."
   ]
  },
  {
   "cell_type": "markdown",
   "id": "ba585603",
   "metadata": {},
   "source": [
    "Para agregar el espacio de trabajo a su entorno ROS, debe obtener el archivo de configuración generado:"
   ]
  },
  {
   "cell_type": "code",
   "execution_count": null,
   "id": "157b0b13",
   "metadata": {},
   "outputs": [],
   "source": [
    "$ . ~/catkin_ws/devel/setup.bash"
   ]
  }
 ],
 "metadata": {
  "kernelspec": {
   "display_name": "Python 3 (ipykernel)",
   "language": "python",
   "name": "python3"
  },
  "language_info": {
   "codemirror_mode": {
    "name": "ipython",
    "version": 3
   },
   "file_extension": ".py",
   "mimetype": "text/x-python",
   "name": "python",
   "nbconvert_exporter": "python",
   "pygments_lexer": "ipython3",
   "version": "3.7.9"
  }
 },
 "nbformat": 4,
 "nbformat_minor": 5
}
